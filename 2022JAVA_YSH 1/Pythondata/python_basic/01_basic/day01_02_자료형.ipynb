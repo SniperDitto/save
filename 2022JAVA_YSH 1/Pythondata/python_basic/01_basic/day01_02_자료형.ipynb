{
 "cells": [
  {
   "cell_type": "raw",
   "id": "3d66ab4d-c79a-4bce-9ee6-7e3b3b58d083",
   "metadata": {},
   "source": [
    "숫자형"
   ]
  },
  {
   "cell_type": "markdown",
   "id": "a126425e-79d5-4c85-bf86-5a5a844a440f",
   "metadata": {},
   "source": [
    "# 숫자형"
   ]
  },
  {
   "cell_type": "code",
   "execution_count": 1,
   "id": "4082d305-9f10-44c3-a4e1-517f9bdf43e4",
   "metadata": {},
   "outputs": [],
   "source": [
    "a=123"
   ]
  },
  {
   "cell_type": "code",
   "execution_count": 2,
   "id": "96b199fd-6851-4194-80ab-f478df95cbd8",
   "metadata": {},
   "outputs": [
    {
     "name": "stdout",
     "output_type": "stream",
     "text": [
      "123\n"
     ]
    }
   ],
   "source": [
    "print(a)"
   ]
  },
  {
   "cell_type": "code",
   "execution_count": 3,
   "id": "a3645622-8e1e-45a4-8398-f8c69e0eea7e",
   "metadata": {},
   "outputs": [
    {
     "data": {
      "text/plain": [
       "123"
      ]
     },
     "execution_count": 3,
     "metadata": {},
     "output_type": "execute_result"
    }
   ],
   "source": [
    "a"
   ]
  },
  {
   "cell_type": "code",
   "execution_count": 4,
   "id": "90db30c0-3407-4425-a4b0-c25d9d904d43",
   "metadata": {},
   "outputs": [],
   "source": [
    "b=456"
   ]
  },
  {
   "cell_type": "code",
   "execution_count": 5,
   "id": "dca798de-d313-402c-993f-6fe643333f4d",
   "metadata": {},
   "outputs": [
    {
     "data": {
      "text/plain": [
       "456"
      ]
     },
     "execution_count": 5,
     "metadata": {},
     "output_type": "execute_result"
    }
   ],
   "source": [
    "a\n",
    "b"
   ]
  },
  {
   "cell_type": "code",
   "execution_count": 6,
   "id": "e4980e19-c6c8-437f-a315-a794d2eac4b8",
   "metadata": {},
   "outputs": [
    {
     "data": {
      "text/plain": [
       "(123, 456)"
      ]
     },
     "execution_count": 6,
     "metadata": {},
     "output_type": "execute_result"
    }
   ],
   "source": [
    "a,b"
   ]
  },
  {
   "cell_type": "code",
   "execution_count": 7,
   "id": "4a360575-2abf-41f2-ba8d-c63fa3953f1a",
   "metadata": {},
   "outputs": [
    {
     "data": {
      "text/plain": [
       "int"
      ]
     },
     "execution_count": 7,
     "metadata": {},
     "output_type": "execute_result"
    }
   ],
   "source": [
    "type(a)"
   ]
  },
  {
   "cell_type": "code",
   "execution_count": 8,
   "id": "6928b14f-fa03-4716-9547-09ca4edf526a",
   "metadata": {},
   "outputs": [],
   "source": [
    "a=1.9"
   ]
  },
  {
   "cell_type": "code",
   "execution_count": 9,
   "id": "d76f1fb9-bdac-409c-b87f-8b68cb758f34",
   "metadata": {},
   "outputs": [
    {
     "data": {
      "text/plain": [
       "float"
      ]
     },
     "execution_count": 9,
     "metadata": {},
     "output_type": "execute_result"
    }
   ],
   "source": [
    "type(a)"
   ]
  },
  {
   "cell_type": "code",
   "execution_count": 10,
   "id": "e1d839ca-bd0c-4d48-8dc5-589231b05e63",
   "metadata": {
    "collapsed": true,
    "jupyter": {
     "outputs_hidden": true
    },
    "tags": []
   },
   "outputs": [
    {
     "data": {
      "text/plain": [
       "\u001b[0;31mDocstring:\u001b[0m\n",
       "print(value, ..., sep=' ', end='\\n', file=sys.stdout, flush=False)\n",
       "\n",
       "Prints the values to a stream, or to sys.stdout by default.\n",
       "Optional keyword arguments:\n",
       "file:  a file-like object (stream); defaults to the current sys.stdout.\n",
       "sep:   string inserted between values, default a space.\n",
       "end:   string appended after the last value, default a newline.\n",
       "flush: whether to forcibly flush the stream.\n",
       "\u001b[0;31mType:\u001b[0m      builtin_function_or_method\n"
      ]
     },
     "metadata": {},
     "output_type": "display_data"
    }
   ],
   "source": [
    "print?"
   ]
  },
  {
   "cell_type": "code",
   "execution_count": 12,
   "id": "f09a080d-8ec5-4e38-ba62-8c934de2eac7",
   "metadata": {
    "collapsed": true,
    "jupyter": {
     "outputs_hidden": true
    },
    "tags": []
   },
   "outputs": [
    {
     "name": "stdout",
     "output_type": "stream",
     "text": [
      "Help on built-in function print in module builtins:\n",
      "\n",
      "print(...)\n",
      "    print(value, ..., sep=' ', end='\\n', file=sys.stdout, flush=False)\n",
      "    \n",
      "    Prints the values to a stream, or to sys.stdout by default.\n",
      "    Optional keyword arguments:\n",
      "    file:  a file-like object (stream); defaults to the current sys.stdout.\n",
      "    sep:   string inserted between values, default a space.\n",
      "    end:   string appended after the last value, default a newline.\n",
      "    flush: whether to forcibly flush the stream.\n",
      "\n"
     ]
    }
   ],
   "source": [
    "help(print)"
   ]
  },
  {
   "cell_type": "code",
   "execution_count": 13,
   "id": "d6ede373-9ab6-42d7-84ce-07cfe048a147",
   "metadata": {},
   "outputs": [
    {
     "data": {
      "text/plain": [
       "\u001b[0;31mSignature:\u001b[0m \u001b[0minput\u001b[0m\u001b[0;34m(\u001b[0m\u001b[0mprompt\u001b[0m\u001b[0;34m=\u001b[0m\u001b[0;34m''\u001b[0m\u001b[0;34m)\u001b[0m\u001b[0;34m\u001b[0m\u001b[0;34m\u001b[0m\u001b[0m\n",
       "\u001b[0;31mDocstring:\u001b[0m\n",
       "Forward raw_input to frontends\n",
       "\n",
       "Raises\n",
       "------\n",
       "StdinNotImplentedError if active frontend doesn't support stdin.\n",
       "\u001b[0;31mFile:\u001b[0m      ~/opt/anaconda3/lib/python3.8/site-packages/ipykernel/kernelbase.py\n",
       "\u001b[0;31mType:\u001b[0m      method\n"
      ]
     },
     "metadata": {},
     "output_type": "display_data"
    }
   ],
   "source": [
    "input?"
   ]
  },
  {
   "cell_type": "code",
   "execution_count": 20,
   "id": "f339602a-589a-4806-887a-d92aa05507ea",
   "metadata": {},
   "outputs": [
    {
     "name": "stdin",
     "output_type": "stream",
     "text": [
      "숫자 입력 :  987\n"
     ]
    }
   ],
   "source": [
    "asdf=input('숫자 입력 : ')"
   ]
  },
  {
   "cell_type": "code",
   "execution_count": 21,
   "id": "195ec0b6-3a66-454c-9a77-68e33f8c0510",
   "metadata": {},
   "outputs": [
    {
     "data": {
      "text/plain": [
       "'987'"
      ]
     },
     "execution_count": 21,
     "metadata": {},
     "output_type": "execute_result"
    }
   ],
   "source": [
    "asdf"
   ]
  },
  {
   "cell_type": "code",
   "execution_count": 22,
   "id": "d86c2855-1c14-4e8e-9fe7-948d0ecb48d4",
   "metadata": {},
   "outputs": [
    {
     "data": {
      "text/plain": [
       "str"
      ]
     },
     "execution_count": 22,
     "metadata": {},
     "output_type": "execute_result"
    }
   ],
   "source": [
    "type(asdf)"
   ]
  },
  {
   "cell_type": "code",
   "execution_count": 23,
   "id": "d9400978-9542-4c9b-9bbb-c350dfbe4871",
   "metadata": {},
   "outputs": [
    {
     "name": "stdout",
     "output_type": "stream",
     "text": [
      "987\n"
     ]
    }
   ],
   "source": [
    "print(asdf)"
   ]
  },
  {
   "cell_type": "code",
   "execution_count": 26,
   "id": "3d00b5ec-88c5-415f-83a9-cd5da866f988",
   "metadata": {},
   "outputs": [
    {
     "data": {
      "text/plain": [
       "988"
      ]
     },
     "execution_count": 26,
     "metadata": {},
     "output_type": "execute_result"
    }
   ],
   "source": [
    "int(asdf)+1"
   ]
  },
  {
   "cell_type": "code",
   "execution_count": 27,
   "id": "57f60122-21f7-4225-b0c2-094be0e9649f",
   "metadata": {},
   "outputs": [],
   "source": [
    "# 주석 cmd+/"
   ]
  },
  {
   "cell_type": "code",
   "execution_count": 32,
   "id": "a9056365-a47a-40cb-a315-18969e11ff7f",
   "metadata": {},
   "outputs": [
    {
     "name": "stdin",
     "output_type": "stream",
     "text": [
      "전체 과일의 수 입력 :  10\n",
      "한 박스당 들어가는 과일의 수 :  3\n"
     ]
    },
    {
     "name": "stdout",
     "output_type": "stream",
     "text": [
      "3 박스가 만들어지고 1 개가 남습니다\n"
     ]
    }
   ],
   "source": [
    "# 전체 과일의 갯수와 한 박스당 들어가는 과일의 수를 입력받아 몇박스가 만들어지고 몇 개가 남는지 출력하기\n",
    "total = int(input('전체 과일의 수 입력 : '))\n",
    "num = int(input('한 박스당 들어가는 과일의 수 : '))\n",
    "print(int(total/num), '박스가 만들어지고', total%num,'개가 남습니다')"
   ]
  },
  {
   "cell_type": "markdown",
   "id": "390278ce-5ceb-40b1-94a1-3201fb3511a9",
   "metadata": {},
   "source": [
    "## 문자열 자료형"
   ]
  },
  {
   "cell_type": "code",
   "execution_count": 33,
   "id": "26d74f66-6d1e-430d-9e62-8cf57a2bdf0a",
   "metadata": {},
   "outputs": [
    {
     "data": {
      "text/plain": [
       "\"hello '낙지짱'\""
      ]
     },
     "execution_count": 33,
     "metadata": {},
     "output_type": "execute_result"
    }
   ],
   "source": [
    "\"hello '낙지짱'\""
   ]
  },
  {
   "cell_type": "code",
   "execution_count": 34,
   "id": "41a4edd9-69b7-4abf-afe5-3b8ec6c8c61c",
   "metadata": {},
   "outputs": [
    {
     "data": {
      "text/plain": [
       "'hello \"몽짱\"'"
      ]
     },
     "execution_count": 34,
     "metadata": {},
     "output_type": "execute_result"
    }
   ],
   "source": [
    "'hello \"몽짱\"'"
   ]
  },
  {
   "cell_type": "code",
   "execution_count": 35,
   "id": "c8b7a80c-38a6-46e1-84d8-0f3d65e4d713",
   "metadata": {},
   "outputs": [
    {
     "data": {
      "text/plain": [
       "'\\n몽짱\\n낙지짱\\n'"
      ]
     },
     "execution_count": 35,
     "metadata": {},
     "output_type": "execute_result"
    }
   ],
   "source": [
    "'''\n",
    "몽짱\n",
    "낙지짱\n",
    "'''"
   ]
  },
  {
   "cell_type": "code",
   "execution_count": 36,
   "id": "97a297d2-ad1e-4e1b-b8c1-996cfc468ee2",
   "metadata": {},
   "outputs": [
    {
     "data": {
      "text/plain": [
       "'1몽'"
      ]
     },
     "execution_count": 36,
     "metadata": {},
     "output_type": "execute_result"
    }
   ],
   "source": [
    "'1'+'몽'"
   ]
  },
  {
   "cell_type": "code",
   "execution_count": 38,
   "id": "2368d577-d6d6-46a1-8729-53b638de4eee",
   "metadata": {},
   "outputs": [],
   "source": [
    "# 1+'몽'"
   ]
  },
  {
   "cell_type": "code",
   "execution_count": 41,
   "id": "303ceab4-5e66-4f4b-a069-538cea3f46b7",
   "metadata": {},
   "outputs": [],
   "source": [
    "yoonababo = '유나바보'*10"
   ]
  },
  {
   "cell_type": "code",
   "execution_count": 42,
   "id": "03a58277-5b70-409e-bc46-9bd9dfd80867",
   "metadata": {},
   "outputs": [
    {
     "data": {
      "text/plain": [
       "40"
      ]
     },
     "execution_count": 42,
     "metadata": {},
     "output_type": "execute_result"
    }
   ],
   "source": [
    "len(yoonababo)"
   ]
  },
  {
   "cell_type": "code",
   "execution_count": 43,
   "id": "2ab368c1-a495-4f51-837c-7a2bd1f1805b",
   "metadata": {},
   "outputs": [
    {
     "data": {
      "text/plain": [
       "'보'"
      ]
     },
     "execution_count": 43,
     "metadata": {},
     "output_type": "execute_result"
    }
   ],
   "source": [
    "yoonababo[-1]"
   ]
  },
  {
   "cell_type": "code",
   "execution_count": 45,
   "id": "88971cc8-c11b-4a76-8998-4816ee55a689",
   "metadata": {},
   "outputs": [
    {
     "data": {
      "text/plain": [
       "'바보'"
      ]
     },
     "execution_count": 45,
     "metadata": {},
     "output_type": "execute_result"
    }
   ],
   "source": [
    "yoonababo[2:4]"
   ]
  },
  {
   "cell_type": "code",
   "execution_count": 47,
   "id": "49f1f516-2a54-4bee-8c25-c04ab486f7e6",
   "metadata": {},
   "outputs": [
    {
     "data": {
      "text/plain": [
       "'유나바보'"
      ]
     },
     "execution_count": 47,
     "metadata": {},
     "output_type": "execute_result"
    }
   ],
   "source": [
    "yoonababo[-4:]"
   ]
  },
  {
   "cell_type": "code",
   "execution_count": 61,
   "id": "958fe7b0-4708-46a8-b35f-a3327bc827bc",
   "metadata": {
    "tags": []
   },
   "outputs": [
    {
     "name": "stdin",
     "output_type": "stream",
     "text": [
      "주민번호를 입력하세요(111111-1111111) :  950929-1231231\n"
     ]
    },
    {
     "name": "stdout",
     "output_type": "stream",
     "text": [
      "95 년 09 월 29 일생,  남자\n"
     ]
    }
   ],
   "source": [
    "# 주민등록번호를 입력받아 생년월일과 성별 추출하기\n",
    "j_number = input('주민번호를 입력하세요(111111-1111111) : ')\n",
    "byear = j_number[0:2]\n",
    "bmonth = j_number[2:4]\n",
    "bday = j_number[4:6]\n",
    "gender = j_number[7:8]\n",
    "\n",
    "if gender=='1' or gender=='3':\n",
    "    gender_Str = '남자'\n",
    "elif gender=='2' or gender=='4':\n",
    "    gender_Str = '여자'\n",
    "print(byear,'년',bmonth,'월',bday,'일생, ',gender_Str)"
   ]
  },
  {
   "cell_type": "markdown",
   "id": "5e5add04-e9ed-483f-a880-7027babc94bc",
   "metadata": {},
   "source": [
    "## 문자열 포맷팅"
   ]
  },
  {
   "cell_type": "code",
   "execution_count": 62,
   "id": "72624765-cff8-4de9-b928-cd1960e13efb",
   "metadata": {},
   "outputs": [],
   "source": [
    "toiletyoona = \"유나는 오늘 화장실에 %d번 다녀왔습니다.\"%3"
   ]
  },
  {
   "cell_type": "code",
   "execution_count": 63,
   "id": "668343c8-0540-4763-a544-0873e11cca70",
   "metadata": {},
   "outputs": [
    {
     "data": {
      "text/plain": [
       "'유나는 오늘 화장실에 3번 다녀왔습니다.'"
      ]
     },
     "execution_count": 63,
     "metadata": {},
     "output_type": "execute_result"
    }
   ],
   "source": [
    "toiletyoona"
   ]
  },
  {
   "cell_type": "code",
   "execution_count": 64,
   "id": "758ccb3d-97a4-46a2-b216-512b38e354fc",
   "metadata": {},
   "outputs": [],
   "source": [
    "toiletyoona2 = \"유나는 오늘 떵을 {}번 쌌읍니다.\".format(1)"
   ]
  },
  {
   "cell_type": "code",
   "execution_count": 65,
   "id": "3d379cee-63fa-44b7-93e3-b98be820582f",
   "metadata": {},
   "outputs": [
    {
     "data": {
      "text/plain": [
       "'유나는 오늘 떵을 1번 쌌읍니다.'"
      ]
     },
     "execution_count": 65,
     "metadata": {},
     "output_type": "execute_result"
    }
   ],
   "source": [
    "toiletyoona2"
   ]
  },
  {
   "cell_type": "code",
   "execution_count": 69,
   "id": "2db9767c-c427-4b1a-8718-bf4bf0ed6ac0",
   "metadata": {},
   "outputs": [
    {
     "data": {
      "text/plain": [
       "'유나는 오늘 떵을 112,312.1234번 쌌읍니다.'"
      ]
     },
     "execution_count": 69,
     "metadata": {},
     "output_type": "execute_result"
    }
   ],
   "source": [
    "toiletyoona2 = \"유나는 오늘 떵을 {:>10,.4f}번 쌌읍니다.\".format(112312.1234)\n",
    "toiletyoona2"
   ]
  },
  {
   "cell_type": "code",
   "execution_count": 72,
   "id": "f361af60-753f-43d0-9d47-d84331dc14a2",
   "metadata": {},
   "outputs": [
    {
     "name": "stdin",
     "output_type": "stream",
     "text": [
      "이름을 입력하세요 :  최유나\n"
     ]
    },
    {
     "name": "stdout",
     "output_type": "stream",
     "text": [
      "이름은 최유나이고, 바보입니다.\n"
     ]
    }
   ],
   "source": [
    "name = input('이름을 입력하세요 : ')\n",
    "status = '바보'\n",
    "print(f'이름은 {name}이고, {status}입니다.'.format(name, status))"
   ]
  },
  {
   "cell_type": "code",
   "execution_count": 78,
   "id": "e2b2c9c9-43e6-48f8-9fab-7a35c0cfc8ef",
   "metadata": {},
   "outputs": [
    {
     "data": {
      "text/plain": [
       "'유나 바보'"
      ]
     },
     "execution_count": 78,
     "metadata": {},
     "output_type": "execute_result"
    }
   ],
   "source": [
    "s = \" \".join([\"유나\",\"바보\"])\n",
    "s"
   ]
  },
  {
   "cell_type": "markdown",
   "id": "0a8cd8fa-eaae-483b-97de-f36611c1b135",
   "metadata": {},
   "source": [
    "## 구구단 출력"
   ]
  },
  {
   "cell_type": "code",
   "execution_count": 83,
   "id": "b8cf96ce-24f3-498c-a07d-bce3211ecdf4",
   "metadata": {},
   "outputs": [
    {
     "name": "stdout",
     "output_type": "stream",
     "text": [
      "-2단-\n",
      "2 x 1 = 2\n",
      "2 x 2 = 4\n",
      "2 x 3 = 6\n",
      "2 x 4 = 8\n",
      "2 x 5 = 10\n",
      "2 x 6 = 12\n",
      "2 x 7 = 14\n",
      "2 x 8 = 16\n",
      "2 x 9 = 18\n",
      "-3단-\n",
      "3 x 1 = 3\n",
      "3 x 2 = 6\n",
      "3 x 3 = 9\n",
      "3 x 4 = 12\n",
      "3 x 5 = 15\n",
      "3 x 6 = 18\n",
      "3 x 7 = 21\n",
      "3 x 8 = 24\n",
      "3 x 9 = 27\n",
      "-4단-\n",
      "4 x 1 = 4\n",
      "4 x 2 = 8\n",
      "4 x 3 = 12\n",
      "4 x 4 = 16\n",
      "4 x 5 = 20\n",
      "4 x 6 = 24\n",
      "4 x 7 = 28\n",
      "4 x 8 = 32\n",
      "4 x 9 = 36\n",
      "-5단-\n",
      "5 x 1 = 5\n",
      "5 x 2 = 10\n",
      "5 x 3 = 15\n",
      "5 x 4 = 20\n",
      "5 x 5 = 25\n",
      "5 x 6 = 30\n",
      "5 x 7 = 35\n",
      "5 x 8 = 40\n",
      "5 x 9 = 45\n",
      "-6단-\n",
      "6 x 1 = 6\n",
      "6 x 2 = 12\n",
      "6 x 3 = 18\n",
      "6 x 4 = 24\n",
      "6 x 5 = 30\n",
      "6 x 6 = 36\n",
      "6 x 7 = 42\n",
      "6 x 8 = 48\n",
      "6 x 9 = 54\n",
      "-7단-\n",
      "7 x 1 = 7\n",
      "7 x 2 = 14\n",
      "7 x 3 = 21\n",
      "7 x 4 = 28\n",
      "7 x 5 = 35\n",
      "7 x 6 = 42\n",
      "7 x 7 = 49\n",
      "7 x 8 = 56\n",
      "7 x 9 = 63\n",
      "-8단-\n",
      "8 x 1 = 8\n",
      "8 x 2 = 16\n",
      "8 x 3 = 24\n",
      "8 x 4 = 32\n",
      "8 x 5 = 40\n",
      "8 x 6 = 48\n",
      "8 x 7 = 56\n",
      "8 x 8 = 64\n",
      "8 x 9 = 72\n",
      "-9단-\n",
      "9 x 1 = 9\n",
      "9 x 2 = 18\n",
      "9 x 3 = 27\n",
      "9 x 4 = 36\n",
      "9 x 5 = 45\n",
      "9 x 6 = 54\n",
      "9 x 7 = 63\n",
      "9 x 8 = 72\n",
      "9 x 9 = 81\n"
     ]
    }
   ],
   "source": [
    "for i in range(2,10,1):\n",
    "    print('-%d단-'%i)\n",
    "    for j in range(1,10,1):\n",
    "        print('%d x %d = %d'%(i,j,i*j))"
   ]
  },
  {
   "cell_type": "code",
   "execution_count": null,
   "id": "6e29869c-0446-449b-ac45-fb7c5ff39c0c",
   "metadata": {},
   "outputs": [],
   "source": []
  }
 ],
 "metadata": {
  "kernelspec": {
   "display_name": "Python 3",
   "language": "python",
   "name": "python3"
  },
  "language_info": {
   "codemirror_mode": {
    "name": "ipython",
    "version": 3
   },
   "file_extension": ".py",
   "mimetype": "text/x-python",
   "name": "python",
   "nbconvert_exporter": "python",
   "pygments_lexer": "ipython3",
   "version": "3.8.8"
  }
 },
 "nbformat": 4,
 "nbformat_minor": 5
}
