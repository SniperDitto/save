{
 "cells": [
  {
   "cell_type": "raw",
   "id": "3d66ab4d-c79a-4bce-9ee6-7e3b3b58d083",
   "metadata": {},
   "source": [
    "숫자형"
   ]
  },
  {
   "cell_type": "markdown",
   "id": "a126425e-79d5-4c85-bf86-5a5a844a440f",
   "metadata": {},
   "source": [
    "# 숫자형"
   ]
  },
  {
   "cell_type": "code",
   "execution_count": 1,
   "id": "4082d305-9f10-44c3-a4e1-517f9bdf43e4",
   "metadata": {},
   "outputs": [],
   "source": [
    "a=123"
   ]
  },
  {
   "cell_type": "code",
   "execution_count": 2,
   "id": "96b199fd-6851-4194-80ab-f478df95cbd8",
   "metadata": {},
   "outputs": [
    {
     "name": "stdout",
     "output_type": "stream",
     "text": [
      "123\n"
     ]
    }
   ],
   "source": [
    "print(a)"
   ]
  },
  {
   "cell_type": "code",
   "execution_count": 3,
   "id": "a3645622-8e1e-45a4-8398-f8c69e0eea7e",
   "metadata": {},
   "outputs": [
    {
     "data": {
      "text/plain": [
       "123"
      ]
     },
     "execution_count": 3,
     "metadata": {},
     "output_type": "execute_result"
    }
   ],
   "source": [
    "a"
   ]
  },
  {
   "cell_type": "code",
   "execution_count": 4,
   "id": "90db30c0-3407-4425-a4b0-c25d9d904d43",
   "metadata": {},
   "outputs": [],
   "source": [
    "b=456"
   ]
  },
  {
   "cell_type": "code",
   "execution_count": 5,
   "id": "dca798de-d313-402c-993f-6fe643333f4d",
   "metadata": {},
   "outputs": [
    {
     "data": {
      "text/plain": [
       "456"
      ]
     },
     "execution_count": 5,
     "metadata": {},
     "output_type": "execute_result"
    }
   ],
   "source": [
    "a\n",
    "b"
   ]
  },
  {
   "cell_type": "code",
   "execution_count": 6,
   "id": "e4980e19-c6c8-437f-a315-a794d2eac4b8",
   "metadata": {},
   "outputs": [
    {
     "data": {
      "text/plain": [
       "(123, 456)"
      ]
     },
     "execution_count": 6,
     "metadata": {},
     "output_type": "execute_result"
    }
   ],
   "source": [
    "a,b"
   ]
  },
  {
   "cell_type": "code",
   "execution_count": 7,
   "id": "4a360575-2abf-41f2-ba8d-c63fa3953f1a",
   "metadata": {},
   "outputs": [
    {
     "data": {
      "text/plain": [
       "int"
      ]
     },
     "execution_count": 7,
     "metadata": {},
     "output_type": "execute_result"
    }
   ],
   "source": [
    "type(a)"
   ]
  },
  {
   "cell_type": "code",
   "execution_count": 8,
   "id": "6928b14f-fa03-4716-9547-09ca4edf526a",
   "metadata": {},
   "outputs": [],
   "source": [
    "a=1.9"
   ]
  },
  {
   "cell_type": "code",
   "execution_count": 9,
   "id": "d76f1fb9-bdac-409c-b87f-8b68cb758f34",
   "metadata": {},
   "outputs": [
    {
     "data": {
      "text/plain": [
       "float"
      ]
     },
     "execution_count": 9,
     "metadata": {},
     "output_type": "execute_result"
    }
   ],
   "source": [
    "type(a)"
   ]
  },
  {
   "cell_type": "code",
   "execution_count": 10,
   "id": "e1d839ca-bd0c-4d48-8dc5-589231b05e63",
   "metadata": {
    "collapsed": true,
    "jupyter": {
     "outputs_hidden": true
    },
    "tags": []
   },
   "outputs": [
    {
     "data": {
      "text/plain": [
       "\u001b[0;31mDocstring:\u001b[0m\n",
       "print(value, ..., sep=' ', end='\\n', file=sys.stdout, flush=False)\n",
       "\n",
       "Prints the values to a stream, or to sys.stdout by default.\n",
       "Optional keyword arguments:\n",
       "file:  a file-like object (stream); defaults to the current sys.stdout.\n",
       "sep:   string inserted between values, default a space.\n",
       "end:   string appended after the last value, default a newline.\n",
       "flush: whether to forcibly flush the stream.\n",
       "\u001b[0;31mType:\u001b[0m      builtin_function_or_method\n"
      ]
     },
     "metadata": {},
     "output_type": "display_data"
    }
   ],
   "source": [
    "print?"
   ]
  },
  {
   "cell_type": "code",
   "execution_count": 12,
   "id": "f09a080d-8ec5-4e38-ba62-8c934de2eac7",
   "metadata": {
    "collapsed": true,
    "jupyter": {
     "outputs_hidden": true
    },
    "tags": []
   },
   "outputs": [
    {
     "name": "stdout",
     "output_type": "stream",
     "text": [
      "Help on built-in function print in module builtins:\n",
      "\n",
      "print(...)\n",
      "    print(value, ..., sep=' ', end='\\n', file=sys.stdout, flush=False)\n",
      "    \n",
      "    Prints the values to a stream, or to sys.stdout by default.\n",
      "    Optional keyword arguments:\n",
      "    file:  a file-like object (stream); defaults to the current sys.stdout.\n",
      "    sep:   string inserted between values, default a space.\n",
      "    end:   string appended after the last value, default a newline.\n",
      "    flush: whether to forcibly flush the stream.\n",
      "\n"
     ]
    }
   ],
   "source": [
    "help(print)"
   ]
  },
  {
   "cell_type": "code",
   "execution_count": 13,
   "id": "d6ede373-9ab6-42d7-84ce-07cfe048a147",
   "metadata": {},
   "outputs": [
    {
     "data": {
      "text/plain": [
       "\u001b[0;31mSignature:\u001b[0m \u001b[0minput\u001b[0m\u001b[0;34m(\u001b[0m\u001b[0mprompt\u001b[0m\u001b[0;34m=\u001b[0m\u001b[0;34m''\u001b[0m\u001b[0;34m)\u001b[0m\u001b[0;34m\u001b[0m\u001b[0;34m\u001b[0m\u001b[0m\n",
       "\u001b[0;31mDocstring:\u001b[0m\n",
       "Forward raw_input to frontends\n",
       "\n",
       "Raises\n",
       "------\n",
       "StdinNotImplentedError if active frontend doesn't support stdin.\n",
       "\u001b[0;31mFile:\u001b[0m      ~/opt/anaconda3/lib/python3.8/site-packages/ipykernel/kernelbase.py\n",
       "\u001b[0;31mType:\u001b[0m      method\n"
      ]
     },
     "metadata": {},
     "output_type": "display_data"
    }
   ],
   "source": [
    "input?"
   ]
  },
  {
   "cell_type": "code",
   "execution_count": 20,
   "id": "f339602a-589a-4806-887a-d92aa05507ea",
   "metadata": {},
   "outputs": [
    {
     "name": "stdin",
     "output_type": "stream",
     "text": [
      "숫자 입력 :  987\n"
     ]
    }
   ],
   "source": [
    "asdf=input('숫자 입력 : ')"
   ]
  },
  {
   "cell_type": "code",
   "execution_count": 21,
   "id": "195ec0b6-3a66-454c-9a77-68e33f8c0510",
   "metadata": {},
   "outputs": [
    {
     "data": {
      "text/plain": [
       "'987'"
      ]
     },
     "execution_count": 21,
     "metadata": {},
     "output_type": "execute_result"
    }
   ],
   "source": [
    "asdf"
   ]
  },
  {
   "cell_type": "code",
   "execution_count": 22,
   "id": "d86c2855-1c14-4e8e-9fe7-948d0ecb48d4",
   "metadata": {},
   "outputs": [
    {
     "data": {
      "text/plain": [
       "str"
      ]
     },
     "execution_count": 22,
     "metadata": {},
     "output_type": "execute_result"
    }
   ],
   "source": [
    "type(asdf)"
   ]
  },
  {
   "cell_type": "code",
   "execution_count": 23,
   "id": "d9400978-9542-4c9b-9bbb-c350dfbe4871",
   "metadata": {},
   "outputs": [
    {
     "name": "stdout",
     "output_type": "stream",
     "text": [
      "987\n"
     ]
    }
   ],
   "source": [
    "print(asdf)"
   ]
  },
  {
   "cell_type": "code",
   "execution_count": 26,
   "id": "3d00b5ec-88c5-415f-83a9-cd5da866f988",
   "metadata": {},
   "outputs": [
    {
     "data": {
      "text/plain": [
       "988"
      ]
     },
     "execution_count": 26,
     "metadata": {},
     "output_type": "execute_result"
    }
   ],
   "source": [
    "int(asdf)+1"
   ]
  },
  {
   "cell_type": "code",
   "execution_count": 27,
   "id": "57f60122-21f7-4225-b0c2-094be0e9649f",
   "metadata": {},
   "outputs": [],
   "source": [
    "# 주석 cmd+/"
   ]
  },
  {
   "cell_type": "code",
   "execution_count": 32,
   "id": "a9056365-a47a-40cb-a315-18969e11ff7f",
   "metadata": {},
   "outputs": [
    {
     "name": "stdin",
     "output_type": "stream",
     "text": [
      "전체 과일의 수 입력 :  10\n",
      "한 박스당 들어가는 과일의 수 :  3\n"
     ]
    },
    {
     "name": "stdout",
     "output_type": "stream",
     "text": [
      "3 박스가 만들어지고 1 개가 남습니다\n"
     ]
    }
   ],
   "source": [
    "# 전체 과일의 갯수와 한 박스당 들어가는 과일의 수를 입력받아 몇박스가 만들어지고 몇 개가 남는지 출력하기\n",
    "total = int(input('전체 과일의 수 입력 : '))\n",
    "num = int(input('한 박스당 들어가는 과일의 수 : '))\n",
    "print(int(total/num), '박스가 만들어지고', total%num,'개가 남습니다')"
   ]
  },
  {
   "cell_type": "markdown",
   "id": "390278ce-5ceb-40b1-94a1-3201fb3511a9",
   "metadata": {},
   "source": [
    "## 문자열 자료형"
   ]
  },
  {
   "cell_type": "code",
   "execution_count": 33,
   "id": "26d74f66-6d1e-430d-9e62-8cf57a2bdf0a",
   "metadata": {},
   "outputs": [
    {
     "data": {
      "text/plain": [
       "\"hello '낙지짱'\""
      ]
     },
     "execution_count": 33,
     "metadata": {},
     "output_type": "execute_result"
    }
   ],
   "source": [
    "\"hello '낙지짱'\""
   ]
  },
  {
   "cell_type": "code",
   "execution_count": 34,
   "id": "41a4edd9-69b7-4abf-afe5-3b8ec6c8c61c",
   "metadata": {},
   "outputs": [
    {
     "data": {
      "text/plain": [
       "'hello \"몽짱\"'"
      ]
     },
     "execution_count": 34,
     "metadata": {},
     "output_type": "execute_result"
    }
   ],
   "source": [
    "'hello \"몽짱\"'"
   ]
  },
  {
   "cell_type": "code",
   "execution_count": 35,
   "id": "c8b7a80c-38a6-46e1-84d8-0f3d65e4d713",
   "metadata": {},
   "outputs": [
    {
     "data": {
      "text/plain": [
       "'\\n몽짱\\n낙지짱\\n'"
      ]
     },
     "execution_count": 35,
     "metadata": {},
     "output_type": "execute_result"
    }
   ],
   "source": [
    "'''\n",
    "몽짱\n",
    "낙지짱\n",
    "'''"
   ]
  },
  {
   "cell_type": "code",
   "execution_count": 36,
   "id": "97a297d2-ad1e-4e1b-b8c1-996cfc468ee2",
   "metadata": {},
   "outputs": [
    {
     "data": {
      "text/plain": [
       "'1몽'"
      ]
     },
     "execution_count": 36,
     "metadata": {},
     "output_type": "execute_result"
    }
   ],
   "source": [
    "'1'+'몽'"
   ]
  },
  {
   "cell_type": "code",
   "execution_count": 38,
   "id": "2368d577-d6d6-46a1-8729-53b638de4eee",
   "metadata": {},
   "outputs": [],
   "source": [
    "# 1+'몽'"
   ]
  },
  {
   "cell_type": "code",
   "execution_count": 41,
   "id": "303ceab4-5e66-4f4b-a069-538cea3f46b7",
   "metadata": {},
   "outputs": [],
   "source": [
    "yoonababo = '유나바보'*10"
   ]
  },
  {
   "cell_type": "code",
   "execution_count": 42,
   "id": "03a58277-5b70-409e-bc46-9bd9dfd80867",
   "metadata": {},
   "outputs": [
    {
     "data": {
      "text/plain": [
       "40"
      ]
     },
     "execution_count": 42,
     "metadata": {},
     "output_type": "execute_result"
    }
   ],
   "source": [
    "len(yoonababo)"
   ]
  },
  {
   "cell_type": "code",
   "execution_count": 43,
   "id": "2ab368c1-a495-4f51-837c-7a2bd1f1805b",
   "metadata": {},
   "outputs": [
    {
     "data": {
      "text/plain": [
       "'보'"
      ]
     },
     "execution_count": 43,
     "metadata": {},
     "output_type": "execute_result"
    }
   ],
   "source": [
    "yoonababo[-1]"
   ]
  },
  {
   "cell_type": "code",
   "execution_count": 45,
   "id": "88971cc8-c11b-4a76-8998-4816ee55a689",
   "metadata": {},
   "outputs": [
    {
     "data": {
      "text/plain": [
       "'바보'"
      ]
     },
     "execution_count": 45,
     "metadata": {},
     "output_type": "execute_result"
    }
   ],
   "source": [
    "yoonababo[2:4]"
   ]
  },
  {
   "cell_type": "code",
   "execution_count": 47,
   "id": "49f1f516-2a54-4bee-8c25-c04ab486f7e6",
   "metadata": {},
   "outputs": [
    {
     "data": {
      "text/plain": [
       "'유나바보'"
      ]
     },
     "execution_count": 47,
     "metadata": {},
     "output_type": "execute_result"
    }
   ],
   "source": [
    "yoonababo[-4:]"
   ]
  },
  {
   "cell_type": "code",
   "execution_count": 55,
   "id": "958fe7b0-4708-46a8-b35f-a3327bc827bc",
   "metadata": {
    "tags": []
   },
   "outputs": [
    {
     "ename": "SyntaxError",
     "evalue": "invalid syntax (<ipython-input-55-d1c4adcab5df>, line 7)",
     "output_type": "error",
     "traceback": [
      "\u001b[0;36m  File \u001b[0;32m\"<ipython-input-55-d1c4adcab5df>\"\u001b[0;36m, line \u001b[0;32m7\u001b[0m\n\u001b[0;31m    if gender=='1' || gender=='3':\u001b[0m\n\u001b[0m                    ^\u001b[0m\n\u001b[0;31mSyntaxError\u001b[0m\u001b[0;31m:\u001b[0m invalid syntax\n"
     ]
    }
   ],
   "source": [
    "# 주민등록번호를 입력받아 생년월일과 성별 추출하기\n",
    "j_number = input('주민번호를 입력하세요(111111-1111111) : ')\n",
    "byear = j_number[0:3]\n",
    "bmonth = j_number[3:5]\n",
    "bday = j_number[5:7]\n",
    "gender = j_number[7:8]\n",
    "if gender=='1' or gender=='3':\n",
    "    gender_Str = '남자'\n",
    "else if gender=='2' or gender=='4':\n",
    "    gender_Str = '여자'\n",
    "print(byear,'년',bmonth,'월',bday,'일생, ',gender_str)"
   ]
  },
  {
   "cell_type": "code",
   "execution_count": null,
   "id": "aad3e541-213f-4de5-a352-0cbceecfa63f",
   "metadata": {},
   "outputs": [],
   "source": []
  }
 ],
 "metadata": {
  "kernelspec": {
   "display_name": "Python 3",
   "language": "python",
   "name": "python3"
  },
  "language_info": {
   "codemirror_mode": {
    "name": "ipython",
    "version": 3
   },
   "file_extension": ".py",
   "mimetype": "text/x-python",
   "name": "python",
   "nbconvert_exporter": "python",
   "pygments_lexer": "ipython3",
   "version": "3.8.8"
  }
 },
 "nbformat": 4,
 "nbformat_minor": 5
}
